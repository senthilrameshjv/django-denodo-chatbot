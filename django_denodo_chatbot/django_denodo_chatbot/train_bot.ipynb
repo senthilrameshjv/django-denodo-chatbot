{
 "cells": [
  {
   "cell_type": "code",
   "execution_count": 104,
   "metadata": {},
   "outputs": [],
   "source": [
    "from chatterbot import ChatBot\n",
    "denodo_chatbot = ChatBot(\"Denodo chatbot\", storage_adapter=\"chatterbot.storage.MongoDatabaseAdapter\", database=\"chatbot_db\",\n",
    "                        logic_adapters=[\n",
    "        {\n",
    "            \"import_path\": \"chatterbot.logic.BestMatch\",\n",
    "            \"statement_comparison_function\": \"chatterbot.comparisons.levenshtein_distance\",\n",
    "            \"response_selection_method\": \"chatterbot.response_selection.get_random_response\"\n",
    "        },{\n",
    "            'import_path': 'chatterbot.logic.LowConfidenceAdapter',\n",
    "            'threshold': 0.65,\n",
    "            'default_response': 'Could you be more clear on your question?'\n",
    "        }],read_only=True)\n",
    "#chatbot_new.storage.drop()admin"
   ]
  },
  {
   "cell_type": "code",
   "execution_count": 86,
   "metadata": {},
   "outputs": [],
   "source": [
    "import jaydebeapi"
   ]
  },
  {
   "cell_type": "code",
   "execution_count": 87,
   "metadata": {},
   "outputs": [],
   "source": [
    "conn = jaydebeapi.connect(\"com.denodo.vdp.jdbc.Driver\",\"jdbc:vdb://localhost:9999/chatbot\",[\"admin\", \"admin\"],r'C:\\Senthil\\chatbot_project\\django_denodo_chatbot\\django_denodo_chatbot\\django_denodo_chatbot\\lib\\denodo-vdp-jdbcdriver.jar')"
   ]
  },
  {
   "cell_type": "code",
   "execution_count": 88,
   "metadata": {},
   "outputs": [],
   "source": [
    "curs = conn.cursor()"
   ]
  },
  {
   "cell_type": "code",
   "execution_count": 89,
   "metadata": {},
   "outputs": [],
   "source": [
    "curs.execute('select question_title, question_url, question_body, answer_body from bv_question_and_answer')"
   ]
  },
  {
   "cell_type": "code",
   "execution_count": 90,
   "metadata": {},
   "outputs": [],
   "source": [
    "results = curs.fetchall()\n",
    "#print(results)"
   ]
  },
  {
   "cell_type": "code",
   "execution_count": 91,
   "metadata": {},
   "outputs": [
    {
     "name": "stdout",
     "output_type": "stream",
     "text": [
      "2962\n",
      "2962\n"
     ]
    }
   ],
   "source": [
    "#title_url_answer =[]\n",
    "#question_url_answer = []\n",
    "title_url = []\n",
    "question_url = []\n",
    "for entry in results:\n",
    "    title, url, question, answer = entry\n",
    "    title_url.append(title)\n",
    "#    title_url_answer.append([url,answer])\n",
    "    title_url.append(url)\n",
    "    question_url.append(question)\n",
    "#    question_url_answer.append([url,answer])\n",
    "    question_url.append(url)\n",
    "\n",
    "#print(len(title_url_answer))\n",
    "#print(len(question_url_answer))\n",
    "print(len(question_url))\n",
    "print(len(title_url))\n"
   ]
  },
  {
   "cell_type": "code",
   "execution_count": 92,
   "metadata": {},
   "outputs": [],
   "source": [
    "from chatterbot.trainers import ChatterBotCorpusTrainer, ListTrainer"
   ]
  },
  {
   "cell_type": "code",
   "execution_count": 93,
   "metadata": {},
   "outputs": [],
   "source": [
    "denodo_chatbot.set_trainer(ChatterBotCorpusTrainer)"
   ]
  },
  {
   "cell_type": "code",
   "execution_count": 94,
   "metadata": {},
   "outputs": [
    {
     "name": "stdout",
     "output_type": "stream",
     "text": [
      "greetings.yml Training: [####################] 100%\n",
      "conversations.yml Training: [####################] 100%\n"
     ]
    }
   ],
   "source": [
    "denodo_chatbot.train(\"chatterbot.corpus.english.greetings\",\n",
    "    \"chatterbot.corpus.english.conversations\")"
   ]
  },
  {
   "cell_type": "code",
   "execution_count": 95,
   "metadata": {},
   "outputs": [
    {
     "name": "stdout",
     "output_type": "stream",
     "text": [
      "List Trainer: [####################] 100%\n"
     ]
    }
   ],
   "source": [
    "denodo_chatbot.set_trainer(ListTrainer)\n",
    "#chatbot_new.train(title_url_answer)\n",
    "denodo_chatbot.train(title_url)\n",
    "#chatbot_new.train(question_url_answer)\n",
    "#chatbot_new.train(question_url)"
   ]
  },
  {
   "cell_type": "code",
   "execution_count": 96,
   "metadata": {},
   "outputs": [],
   "source": [
    "train_data = []\n",
    "faq = open('faq.txt','r').readlines()\n",
    "for line in faq:\n",
    "    train_data.append(line)"
   ]
  },
  {
   "cell_type": "code",
   "execution_count": 97,
   "metadata": {},
   "outputs": [
    {
     "name": "stdout",
     "output_type": "stream",
     "text": [
      "8\n"
     ]
    }
   ],
   "source": [
    "print(len(train_data))"
   ]
  },
  {
   "cell_type": "code",
   "execution_count": 98,
   "metadata": {},
   "outputs": [
    {
     "name": "stdout",
     "output_type": "stream",
     "text": [
      "List Trainer: [####################] 100%\n"
     ]
    }
   ],
   "source": [
    "denodo_chatbot.set_trainer(ListTrainer)\n",
    "denodo_chatbot.train(train_data)"
   ]
  },
  {
   "cell_type": "code",
   "execution_count": 99,
   "metadata": {},
   "outputs": [],
   "source": [
    "from chatterbot.conversation import Statement \n",
    "def get_response():\n",
    "    while True:\n",
    "        request = input('You : ').strip().lower()\n",
    "        if request == 'bye':\n",
    "            response = 'Nice talking to you'\n",
    "            print('Bot : ',response)\n",
    "            break\n",
    "        else:\n",
    "            response = denodo_chatbot.get_response(request)\n",
    "            #count = Statement.get_response_count(Statement(request))\n",
    "            prefix = ''\n",
    "            if str(response).startswith('http'):\n",
    "                prefix = 'You will find this URL useful '\n",
    "            print('Bot : ',prefix,response)"
   ]
  },
  {
   "cell_type": "code",
   "execution_count": 102,
   "metadata": {
    "scrolled": true
   },
   "outputs": [
    {
     "name": "stdout",
     "output_type": "stream",
     "text": [
      "You : JDBC driver\n",
      "Bot :  You will find this URL useful  https://community.denodo.com/answers/question/details?questionId=90670000000Cc1ZAAS\n",
      "You : Where do I find the JDBC driver to connect Virtual DataPort\n",
      "Bot :   The client drivers to connect to Virtual DataPort through JDBC and ODBC are available under the folder <DENODO_HOME>/tools/client-drivers\n",
      "You : What is the database uri to use\n",
      "Bot :   This is the JDBC URI you can use - jdbc:vdb://<hostName>:<port>/<databaseName>[?<paramName>=<paramValue> [&<paramName>=<paramValue>]* ]\n",
      "You : Richard Nixon\n",
      "Bot :   - Senthil Ramesh\n",
      "You : Where can i get the client drivers\n",
      "Bot :   I am sorry, but I do not understand.\n",
      "You : Bye\n",
      "Bot :  Nice talking to you\n"
     ]
    }
   ],
   "source": [
    "get_response()"
   ]
  },
  {
   "cell_type": "code",
   "execution_count": 100,
   "metadata": {},
   "outputs": [],
   "source": [
    "trivia = open(r'C:\\Users\\Senthil Ramesh\\AnacondaProjects\\Chatbox-community-questions\\chatterbot-corpus-master\\chatterbot_corpus\\data\\english\\trivia.yml','r').readlines()"
   ]
  },
  {
   "cell_type": "code",
   "execution_count": 101,
   "metadata": {},
   "outputs": [
    {
     "name": "stdout",
     "output_type": "stream",
     "text": [
      "31\n",
      "List Trainer: [####################] 100%\n"
     ]
    }
   ],
   "source": [
    "train_data = []\n",
    "for line in trivia:\n",
    "    train_data.append(line)\n",
    "print(len(train_data))\n",
    "denodo_chatbot.set_trainer(ListTrainer)\n",
    "denodo_chatbot.train(train_data)"
   ]
  },
  {
   "cell_type": "code",
   "execution_count": null,
   "metadata": {},
   "outputs": [],
   "source": []
  }
 ],
 "metadata": {
  "kernelspec": {
   "display_name": "Python 3",
   "language": "python",
   "name": "python3"
  },
  "language_info": {
   "codemirror_mode": {
    "name": "ipython",
    "version": 3
   },
   "file_extension": ".py",
   "mimetype": "text/x-python",
   "name": "python",
   "nbconvert_exporter": "python",
   "pygments_lexer": "ipython3",
   "version": "3.6.5"
  }
 },
 "nbformat": 4,
 "nbformat_minor": 2
}
